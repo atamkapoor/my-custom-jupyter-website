{
  "cells": [
    {
      "cell_type": "code",
      "execution_count": 1,
      "id": "97ecfa8d-e897-4f9a-a140-dade67cb8b6d",
      "metadata": {
        "trusted": true
      },
      "outputs": [],
      "source": [
        "%matplotlib inline\n",
        "\n",
        "import pandas as pd\n",
        "import matplotlib.pyplot as plt"
      ]
    },
    {
      "cell_type": "code",
      "execution_count": null,
      "id": "d91c8752",
      "metadata": {},
      "outputs": [],
      "source": [
        "%pip install -q Jinja2\n",
        "\n",
        "# %pip install -q ipywidgets bqplot plotly\n",
        "# which translates to \n",
        "# import piplite\n",
        "# await piplite.install([\"ipywidgets\", \"bqplot\", \"plotly\"])"
      ]
    },
    {
      "cell_type": "code",
      "execution_count": 3,
      "id": "5b057ccd-761d-4324-8421-3f08f0cbd075",
      "metadata": {
        "trusted": true
      },
      "outputs": [],
      "source": [
        "tickers = ['AAPL', 'ABBV', 'ABT', 'ACN', 'ADBE', 'ADP']\n",
        "data = {}\n",
        "for ticker in tickers:\n",
        "    data[ticker] = pd.read_csv(f\"data/{ticker}.csv\", index_col=\"date\", parse_dates=True).iloc[-1]\n",
        "\n",
        "data = pd.DataFrame(data).T"
      ]
    },
    {
      "cell_type": "code",
      "execution_count": null,
      "id": "c6539e10-1212-4301-bd71-f214f804939c",
      "metadata": {
        "trusted": true
      },
      "outputs": [],
      "source": [
        "vol_flavors = [\"classical\", \"yang-zhang\"]\n",
        "windows = [\"11D\", \"63D\"]\n",
        "columns = [vol_flavor + \", \" + window for window in windows for vol_flavor in vol_flavors]\n",
        "data[columns].style.set_properties(**{'font-size': '10pt'}).background_gradient(cmap='RdYlGn_r', axis=1).format(\"{:.1%}\")"
      ]
    },
    {
      "cell_type": "code",
      "execution_count": null,
      "id": "e3eb3f35",
      "metadata": {},
      "outputs": [],
      "source": [
        "data[columns].plot(kind=\"bar\")"
      ]
    }
  ],
  "metadata": {
    "kernelspec": {
      "display_name": "Python (Pyodide)",
      "language": "python",
      "name": "python"
    },
    "language_info": {
      "codemirror_mode": {
        "name": "python",
        "version": 3
      },
      "file_extension": ".py",
      "mimetype": "text/x-python",
      "name": "python",
      "nbconvert_exporter": "python",
      "pygments_lexer": "ipython3",
      "version": "3.8"
    }
  },
  "nbformat": 4,
  "nbformat_minor": 5
}
